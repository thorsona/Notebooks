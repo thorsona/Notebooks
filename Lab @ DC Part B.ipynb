{
 "cells": [
  {
   "cell_type": "code",
   "execution_count": 88,
   "metadata": {
    "collapsed": true
   },
   "outputs": [],
   "source": [
    "from __future__ import division\n",
    "import numpy as np\n",
    "import pandas as pd\n",
    "import scipy.stats as ss\n",
    "import statsmodels.api as sm\n",
    "import matplotlib.pyplot as plt\n",
    "import pickle\n",
    "import os\n",
    "os.chdir('C:/Users/Anna/Documents/lab_at_dc_part_a/')"
   ]
  },
  {
   "cell_type": "code",
   "execution_count": 178,
   "metadata": {
    "collapsed": false
   },
   "outputs": [],
   "source": [
    "# reading in the data from csv\n",
    "stops1 = pd.read_csv('stopsData1.csv', index_col='stop_id')\n",
    "stops2 = pd.read_csv('stopsData2.csv', index_col='stop_id')\n",
    "courts = pd.read_csv('courtData.csv')"
   ]
  },
  {
   "cell_type": "code",
   "execution_count": 179,
   "metadata": {
    "collapsed": false
   },
   "outputs": [],
   "source": [
    "# clean courts data up a bit\n",
    "courts['stop_id'] = courts['stop_id'].str.replace(r'O', r'0')\n",
    "courts['ticket_amount'] = courts['ticket_amount'].str.replace(r'$', r'')\n",
    "courts['ticket_amount'] = courts['ticket_amount'].str.replace(r',', r'.')\n",
    "courts['ticket_amount'] = courts['ticket_amount'].str.replace(r'O', r'0')\n",
    "courts = courts.set_index('stop_id')\n",
    "courts.index = pd.to_numeric(courts.index)\n",
    "courts.ticket_amount = pd.to_numeric(courts.ticket_amount)"
   ]
  },
  {
   "cell_type": "code",
   "execution_count": 180,
   "metadata": {
    "collapsed": true
   },
   "outputs": [],
   "source": [
    "# concatting the files\n",
    "stops = stops1.join(stops2, how='left')\n",
    "stops = stops.join(courts, how='left')"
   ]
  },
  {
   "cell_type": "code",
   "execution_count": 181,
   "metadata": {
    "collapsed": false
   },
   "outputs": [
    {
     "data": {
      "text/plain": [
       "officer_id       705\n",
       "driver_id        705\n",
       "driver_age       705\n",
       "driver_sex       705\n",
       "ticket           705\n",
       "ward             705\n",
       "ticket_amount    705\n",
       "status           705\n",
       "dtype: int64"
      ]
     },
     "execution_count": 181,
     "metadata": {},
     "output_type": "execute_result"
    }
   ],
   "source": [
    "#check to make sure it joined properly\n",
    "stops[stops.status.notnull()].count()"
   ]
  },
  {
   "cell_type": "code",
   "execution_count": 182,
   "metadata": {
    "collapsed": false
   },
   "outputs": [
    {
     "name": "stdout",
     "output_type": "stream",
     "text": [
      "Average for Ladies: 86.0\n",
      "Average for Gents: 121.0\n"
     ]
    }
   ],
   "source": [
    "ladies = stops[(stops.status.notnull()) & (stops.driver_sex == 'f') & (stops.ticket==1)]['ticket_amount']\n",
    "gents = stops[(stops.status.notnull()) & (stops.driver_sex == 'm') & (stops.ticket==1)]['ticket_amount']\n",
    "\n",
    "print \"Average for Ladies: {}\\nAverage for Gents: {}\".format(np.average(ladies).round(0), np.average(gents).round(0))"
   ]
  },
  {
   "cell_type": "code",
   "execution_count": 183,
   "metadata": {
    "collapsed": false
   },
   "outputs": [
    {
     "data": {
      "text/plain": [
       "Ttest_indResult(statistic=-7.2260515430355765, pvalue=1.2981445070864148e-12)"
      ]
     },
     "execution_count": 183,
     "metadata": {},
     "output_type": "execute_result"
    }
   ],
   "source": [
    "# test for difference\n",
    "ss.ttest_ind(ladies, gents)"
   ]
  },
  {
   "cell_type": "code",
   "execution_count": 184,
   "metadata": {
    "collapsed": false
   },
   "outputs": [
    {
     "name": "stdout",
     "output_type": "stream",
     "text": [
      "0.413728495997\n"
     ]
    }
   ],
   "source": [
    "print (np.average(gents) - np.average(ladies)) / np.average(ladies)"
   ]
  },
  {
   "cell_type": "code",
   "execution_count": 185,
   "metadata": {
    "collapsed": false
   },
   "outputs": [
    {
     "name": "stdout",
     "output_type": "stream",
     "text": [
      "1 117.0 Ttest_indResult(statistic=0.95760110749350813, pvalue=0.33859313879876785)\n",
      "2 100.0 Ttest_indResult(statistic=-1.8047606653972181, pvalue=0.071539942609154805)\n",
      "3 104.0 Ttest_indResult(statistic=-1.1953692994458311, pvalue=0.2323458521943387)\n",
      "4 112.0 Ttest_indResult(statistic=0.10056120041265304, pvalue=0.91992746965271455)\n",
      "5 122.0 Ttest_indResult(statistic=1.8610447248815549, pvalue=0.063155100641677522)\n",
      "6 115.0 Ttest_indResult(statistic=0.51119878326485835, pvalue=0.60937237936937605)\n",
      "7 113.0 Ttest_indResult(statistic=0.28939039786860504, pvalue=0.77236796572956212)\n",
      "8 108.0 Ttest_indResult(statistic=-0.6223052141742057, pvalue=0.53394297693027115)\n"
     ]
    }
   ],
   "source": [
    "##looking at ticket amount by ward\n",
    "for i in np.arange(1,9,1):\n",
    "    wards = stops[(stops.status.notnull()) & (stops.ward == i) & (stops.ticket==1)]['ticket_amount']\n",
    "    other_wards = stops[(stops.status.notnull()) & (stops.ward != i) & (stops.ticket==1)]['ticket_amount']\n",
    "    ward_ttests = ss.ttest_ind(wards, other_wards)\n",
    "    print i, np.average(wards).round(0),ward_ttests      "
   ]
  },
  {
   "cell_type": "code",
   "execution_count": 186,
   "metadata": {
    "collapsed": false
   },
   "outputs": [
    {
     "name": "stdout",
     "output_type": "stream",
     "text": [
      "B 106.0 Ttest_indResult(statistic=-1.223970492998939, pvalue=0.22137340337137251)\n",
      "A 114.0 Ttest_indResult(statistic=0.47544084880033077, pvalue=0.63462047393980503)\n",
      "D 116.0 Ttest_indResult(statistic=1.055615143776597, pvalue=0.29150671442463538)\n",
      "E 108.0 Ttest_indResult(statistic=-0.79462804550772614, pvalue=0.42709807206309669)\n",
      "C 113.0 Ttest_indResult(statistic=0.4959975944058555, pvalue=0.62005113633472519)\n"
     ]
    }
   ],
   "source": [
    "# looking at ticket amount by MPD officer\n",
    "for x in stops['officer_id'].unique():\n",
    "    officers = stops[(stops.status.notnull()) & (stops.officer_id == x) & (stops.ticket==1)]['ticket_amount']\n",
    "    other_officers = stops[(stops.status.notnull()) & (stops.officer_id != x) & (stops.ticket==1)]['ticket_amount']\n",
    "    officer_ttests = ss.ttest_ind(officers, other_officers)\n",
    "    print x,np.average(officers).round(0),officer_ttests  "
   ]
  },
  {
   "cell_type": "code",
   "execution_count": 187,
   "metadata": {
    "collapsed": false
   },
   "outputs": [],
   "source": [
    "# create dummy var for male\n",
    "stops['sex_m'] = 0\n",
    "stops.ix[stops.driver_sex == 'm', 'sex_m'] = 1\n",
    "\n",
    "# create dummy vars for officer \n",
    "for j in stops['officer_id'].unique():\n",
    "    stops['officer_'+j] = stops.officer_id.map(lambda x: x == j).astype(int)"
   ]
  },
  {
   "cell_type": "code",
   "execution_count": 192,
   "metadata": {
    "collapsed": false
   },
   "outputs": [],
   "source": [
    "#separate out into train/test and X,y\n",
    "data = dict()\n",
    "data['X'] = stops[stops.ticket == 1].drop(['driver_id','ticket'], axis=1).fillna(0).select_dtypes(exclude=[object]).copy()\n",
    "data['y'] = stops[stops.ticket == 1]['status'].copy()\n",
    "\n",
    "from sklearn.cross_validation import train_test_split\n",
    "\n",
    "Xtrain, Xtest, ytrain, ytest = train_test_split(data['X'], data['y'], test_size=0.30, random_state=21)"
   ]
  },
  {
   "cell_type": "code",
   "execution_count": 193,
   "metadata": {
    "collapsed": false
   },
   "outputs": [
    {
     "data": {
      "text/html": [
       "<div>\n",
       "<table border=\"1\" class=\"dataframe\">\n",
       "  <thead>\n",
       "    <tr style=\"text-align: right;\">\n",
       "      <th>stop_id</th>\n",
       "      <th>97</th>\n",
       "      <th>5814</th>\n",
       "      <th>3369</th>\n",
       "      <th>3170</th>\n",
       "      <th>4820</th>\n",
       "    </tr>\n",
       "  </thead>\n",
       "  <tbody>\n",
       "    <tr>\n",
       "      <th>driver_age</th>\n",
       "      <td>43.0</td>\n",
       "      <td>48.0</td>\n",
       "      <td>48.0</td>\n",
       "      <td>59.0</td>\n",
       "      <td>67.0</td>\n",
       "    </tr>\n",
       "    <tr>\n",
       "      <th>ward</th>\n",
       "      <td>1.0</td>\n",
       "      <td>7.0</td>\n",
       "      <td>3.0</td>\n",
       "      <td>7.0</td>\n",
       "      <td>8.0</td>\n",
       "    </tr>\n",
       "    <tr>\n",
       "      <th>ticket_amount</th>\n",
       "      <td>120.0</td>\n",
       "      <td>145.0</td>\n",
       "      <td>190.0</td>\n",
       "      <td>105.0</td>\n",
       "      <td>50.0</td>\n",
       "    </tr>\n",
       "    <tr>\n",
       "      <th>sex_m</th>\n",
       "      <td>1.0</td>\n",
       "      <td>1.0</td>\n",
       "      <td>1.0</td>\n",
       "      <td>1.0</td>\n",
       "      <td>1.0</td>\n",
       "    </tr>\n",
       "    <tr>\n",
       "      <th>officer_B</th>\n",
       "      <td>0.0</td>\n",
       "      <td>0.0</td>\n",
       "      <td>0.0</td>\n",
       "      <td>0.0</td>\n",
       "      <td>1.0</td>\n",
       "    </tr>\n",
       "    <tr>\n",
       "      <th>officer_A</th>\n",
       "      <td>0.0</td>\n",
       "      <td>0.0</td>\n",
       "      <td>0.0</td>\n",
       "      <td>0.0</td>\n",
       "      <td>0.0</td>\n",
       "    </tr>\n",
       "    <tr>\n",
       "      <th>officer_D</th>\n",
       "      <td>1.0</td>\n",
       "      <td>0.0</td>\n",
       "      <td>0.0</td>\n",
       "      <td>0.0</td>\n",
       "      <td>0.0</td>\n",
       "    </tr>\n",
       "    <tr>\n",
       "      <th>officer_E</th>\n",
       "      <td>0.0</td>\n",
       "      <td>1.0</td>\n",
       "      <td>0.0</td>\n",
       "      <td>1.0</td>\n",
       "      <td>0.0</td>\n",
       "    </tr>\n",
       "    <tr>\n",
       "      <th>officer_C</th>\n",
       "      <td>0.0</td>\n",
       "      <td>0.0</td>\n",
       "      <td>1.0</td>\n",
       "      <td>0.0</td>\n",
       "      <td>0.0</td>\n",
       "    </tr>\n",
       "  </tbody>\n",
       "</table>\n",
       "</div>"
      ],
      "text/plain": [
       "stop_id         97     5814   3369   3170  4820\n",
       "driver_age      43.0   48.0   48.0   59.0  67.0\n",
       "ward             1.0    7.0    3.0    7.0   8.0\n",
       "ticket_amount  120.0  145.0  190.0  105.0  50.0\n",
       "sex_m            1.0    1.0    1.0    1.0   1.0\n",
       "officer_B        0.0    0.0    0.0    0.0   1.0\n",
       "officer_A        0.0    0.0    0.0    0.0   0.0\n",
       "officer_D        1.0    0.0    0.0    0.0   0.0\n",
       "officer_E        0.0    1.0    0.0    1.0   0.0\n",
       "officer_C        0.0    0.0    1.0    0.0   0.0"
      ]
     },
     "execution_count": 193,
     "metadata": {},
     "output_type": "execute_result"
    }
   ],
   "source": [
    "Xtrain.head().T"
   ]
  },
  {
   "cell_type": "code",
   "execution_count": 212,
   "metadata": {
    "collapsed": false
   },
   "outputs": [
    {
     "name": "stdout",
     "output_type": "stream",
     "text": [
      "RandomForestClassifier(bootstrap=True, class_weight=None, criterion='gini',\n",
      "            max_depth=None, max_features='auto', max_leaf_nodes=None,\n",
      "            min_samples_leaf=1, min_samples_split=2,\n",
      "            min_weight_fraction_leaf=0.0, n_estimators=100, n_jobs=1,\n",
      "            oob_score=False, random_state=21, verbose=0, warm_start=False) Index([u'driver_age', u'ward', u'ticket_amount', u'sex_m'], dtype='object')\n",
      "number of features: 4\n",
      "LogisticRegression(C=1.0, class_weight=None, dual=False, fit_intercept=True,\n",
      "          intercept_scaling=1, max_iter=100, multi_class='ovr', n_jobs=1,\n",
      "          penalty='l2', random_state=21, solver='liblinear', tol=0.0001,\n",
      "          verbose=0, warm_start=False) Index([u'driver_age', u'ward', u'sex_m', u'officer_B', u'officer_A',\n",
      "       u'officer_D', u'officer_E', u'officer_C'],\n",
      "      dtype='object')\n",
      "number of features: 8\n"
     ]
    }
   ],
   "source": [
    "# setting up for models and feature selection\n",
    "from sklearn.feature_selection import SelectFromModel\n",
    "from sklearn.linear_model import LogisticRegression\n",
    "from sklearn.ensemble import RandomForestClassifier\n",
    "\n",
    "rf = RandomForestClassifier(n_estimators=100, random_state=21)\n",
    "lm = LogisticRegression(fit_intercept=True, random_state=21)\n",
    "\n",
    "model_types = [rf, lm]\n",
    "x_train = dict()\n",
    "for mtype in model_types:\n",
    "    select = SelectFromModel(estimator=mtype,threshold=0.04, prefit=False)\n",
    "    select.fit_transform(Xtrain,ytrain)\n",
    "    features = select.get_support()\n",
    "    x_train[mtype] = Xtrain[Xtrain.columns[features]]\n",
    "    print mtype, Xtrain.columns[features]\n",
    "    print 'number of features: {}'.format(len(Xtrain.columns[features]))"
   ]
  },
  {
   "cell_type": "code",
   "execution_count": 232,
   "metadata": {
    "collapsed": false
   },
   "outputs": [],
   "source": [
    "# fit the models\n",
    "models = dict()\n",
    "for mtype in model_types:\n",
    "    models[mtype] = mtype.fit(X_train, ytrain)"
   ]
  },
  {
   "cell_type": "code",
   "execution_count": 234,
   "metadata": {
    "collapsed": false
   },
   "outputs": [],
   "source": [
    "# get predictions based on the models\n",
    "preds = dict()\n",
    "for mtype in model_types:\n",
    "    preds[mtype] = models[mtype].predict(X_test)"
   ]
  },
  {
   "cell_type": "code",
   "execution_count": 252,
   "metadata": {
    "collapsed": false
   },
   "outputs": [],
   "source": [
    "# get labels for outcomes\n",
    "labels = y_test.sort_values().unique()"
   ]
  },
  {
   "cell_type": "code",
   "execution_count": 276,
   "metadata": {
    "collapsed": false
   },
   "outputs": [
    {
     "name": "stdout",
     "output_type": "stream",
     "text": [
      "challenged [ 0.56179775  0.125       0.09090909  0.25      ]\n",
      "overdue [ 0.84033613  0.03333333  0.04761905  0.04761905]\n",
      "paid [ 0.67340067  0.05263158  0.0625      0.08      ]\n",
      "            challenged  overdue  paid  pending\n",
      "challenged         100        4    14        1\n",
      "overdue             23        1     5        1\n",
      "paid                36        3     2        1\n",
      "pending             19        0     1        1\n",
      "challenged [ 0.56132075  0.          0.          0.        ]\n",
      "overdue [ 1.  0.  0.  0.]\n",
      "paid [ 0.71903323  0.          0.          0.        ]\n",
      "            challenged  overdue  paid  pending\n",
      "challenged         119        0     0        0\n",
      "overdue             30        0     0        0\n",
      "paid                42        0     0        0\n",
      "pending             21        0     0        0\n"
     ]
    }
   ],
   "source": [
    "#evaluate model performance\n",
    "from sklearn import metrics\n",
    "for mtype in model_types:\n",
    "    scores = metrics.precision_recall_fscore_support(y_test, preds[mtype])\n",
    "    print labels[0],scores[0]\n",
    "    print labels[1],scores[1]\n",
    "    print labels[2],scores[2]\n",
    "    print pd.DataFrame(metrics.confusion_matrix(y_test, preds[mtype]),index = labels,columns=labels)"
   ]
  }
 ],
 "metadata": {
  "anaconda-cloud": {},
  "kernelspec": {
   "display_name": "Python [Root]",
   "language": "python",
   "name": "Python [Root]"
  },
  "language_info": {
   "codemirror_mode": {
    "name": "ipython",
    "version": 2
   },
   "file_extension": ".py",
   "mimetype": "text/x-python",
   "name": "python",
   "nbconvert_exporter": "python",
   "pygments_lexer": "ipython2",
   "version": "2.7.12"
  }
 },
 "nbformat": 4,
 "nbformat_minor": 0
}
