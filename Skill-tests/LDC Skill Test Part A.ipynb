{
 "cells": [
  {
   "cell_type": "code",
   "execution_count": 104,
   "metadata": {
    "collapsed": true
   },
   "outputs": [],
   "source": [
    "from __future__ import division\n",
    "import numpy as np\n",
    "import pandas as pd\n",
    "import scipy.stats as ss\n",
    "import matplotlib.pyplot as plt\n",
    "import pickle\n",
    "import os\n",
    "os.chdir('C:/Users/Anna/Documents/lab_at_dc_part_a/')"
   ]
  },
  {
   "cell_type": "code",
   "execution_count": 117,
   "metadata": {
    "collapsed": false
   },
   "outputs": [],
   "source": [
    "# reading in the data from csv\n",
    "stops1 = pd.read_csv('stopsData1.csv', index_col='stop_id')\n",
    "stops2 = pd.read_csv('stopsData2.csv', index_col='stop_id')"
   ]
  },
  {
   "cell_type": "code",
   "execution_count": 118,
   "metadata": {
    "collapsed": false
   },
   "outputs": [],
   "source": [
    "# concatting the files\n",
    "stops = stops1.join(stops2, how='left')"
   ]
  },
  {
   "cell_type": "code",
   "execution_count": 119,
   "metadata": {
    "collapsed": false
   },
   "outputs": [
    {
     "name": "stdout",
     "output_type": "stream",
     "text": [
      "2140 2140 2140\n"
     ]
    }
   ],
   "source": [
    "# getting total traffic stops (and checking join)\n",
    "print len(stops1),  len(stops2), len(stops)"
   ]
  },
  {
   "cell_type": "code",
   "execution_count": 120,
   "metadata": {
    "collapsed": false
   },
   "outputs": [
    {
     "data": {
      "text/html": [
       "<div>\n",
       "<table border=\"1\" class=\"dataframe\">\n",
       "  <thead>\n",
       "    <tr style=\"text-align: right;\">\n",
       "      <th></th>\n",
       "      <th>officer_id</th>\n",
       "      <th>driver_id</th>\n",
       "      <th>driver_age</th>\n",
       "      <th>driver_sex</th>\n",
       "      <th>ticket</th>\n",
       "      <th>ward</th>\n",
       "    </tr>\n",
       "    <tr>\n",
       "      <th>stop_id</th>\n",
       "      <th></th>\n",
       "      <th></th>\n",
       "      <th></th>\n",
       "      <th></th>\n",
       "      <th></th>\n",
       "      <th></th>\n",
       "    </tr>\n",
       "  </thead>\n",
       "  <tbody>\n",
       "    <tr>\n",
       "      <th>7406</th>\n",
       "      <td>B</td>\n",
       "      <td>3566</td>\n",
       "      <td>33</td>\n",
       "      <td>m</td>\n",
       "      <td>0</td>\n",
       "      <td>1</td>\n",
       "    </tr>\n",
       "    <tr>\n",
       "      <th>3364</th>\n",
       "      <td>A</td>\n",
       "      <td>9243</td>\n",
       "      <td>28</td>\n",
       "      <td>m</td>\n",
       "      <td>1</td>\n",
       "      <td>7</td>\n",
       "    </tr>\n",
       "    <tr>\n",
       "      <th>1934</th>\n",
       "      <td>D</td>\n",
       "      <td>1296</td>\n",
       "      <td>66</td>\n",
       "      <td>m</td>\n",
       "      <td>0</td>\n",
       "      <td>3</td>\n",
       "    </tr>\n",
       "    <tr>\n",
       "      <th>2807</th>\n",
       "      <td>E</td>\n",
       "      <td>14277</td>\n",
       "      <td>28</td>\n",
       "      <td>m</td>\n",
       "      <td>0</td>\n",
       "      <td>8</td>\n",
       "    </tr>\n",
       "    <tr>\n",
       "      <th>9974</th>\n",
       "      <td>D</td>\n",
       "      <td>2493</td>\n",
       "      <td>55</td>\n",
       "      <td>m</td>\n",
       "      <td>0</td>\n",
       "      <td>2</td>\n",
       "    </tr>\n",
       "  </tbody>\n",
       "</table>\n",
       "</div>"
      ],
      "text/plain": [
       "        officer_id  driver_id  driver_age driver_sex  ticket  ward\n",
       "stop_id                                                           \n",
       "7406             B       3566          33          m       0     1\n",
       "3364             A       9243          28          m       1     7\n",
       "1934             D       1296          66          m       0     3\n",
       "2807             E      14277          28          m       0     8\n",
       "9974             D       2493          55          m       0     2"
      ]
     },
     "execution_count": 120,
     "metadata": {},
     "output_type": "execute_result"
    }
   ],
   "source": [
    "stops.head()"
   ]
  },
  {
   "cell_type": "code",
   "execution_count": 121,
   "metadata": {
    "collapsed": false
   },
   "outputs": [
    {
     "name": "stdout",
     "output_type": "stream",
     "text": [
      "Ward 1: Average Age 44.9\n",
      "Ward 2: Average Age 44.9\n",
      "Ward 3: Average Age 46.9\n",
      "Ward 4: Average Age 45.6\n",
      "Ward 5: Average Age 46.0\n",
      "Ward 6: Average Age 49.9\n",
      "Ward 7: Average Age 48.4\n",
      "Ward 8: Average Age 50.9\n"
     ]
    }
   ],
   "source": [
    "#figuring out average age by district\n",
    "for i in np.arange(1,9,1):\n",
    "    print 'Ward {}: Average Age {}'.format(i, np.average(stops[stops.ward == i]['driver_age']).round(1)) "
   ]
  },
  {
   "cell_type": "code",
   "execution_count": 122,
   "metadata": {
    "collapsed": false
   },
   "outputs": [
    {
     "data": {
      "text/plain": [
       "2034"
      ]
     },
     "execution_count": 122,
     "metadata": {},
     "output_type": "execute_result"
    }
   ],
   "source": [
    "# number of distinct drivers stopped\n",
    "len(stops.groupby('driver_id'))"
   ]
  },
  {
   "cell_type": "code",
   "execution_count": 123,
   "metadata": {
    "collapsed": false
   },
   "outputs": [],
   "source": [
    "# dedupe driver id to see what average age of distinct drivers is\n",
    "drivers = stops.drop_duplicates(subset = 'driver_id')"
   ]
  },
  {
   "cell_type": "code",
   "execution_count": 124,
   "metadata": {
    "collapsed": false
   },
   "outputs": [
    {
     "name": "stdout",
     "output_type": "stream",
     "text": [
      "47.151425762"
     ]
    },
    {
     "data": {
      "text/plain": [
       "47.118224299065417"
      ]
     },
     "execution_count": 124,
     "metadata": {},
     "output_type": "execute_result"
    },
    {
     "name": "stdout",
     "output_type": "stream",
     "text": [
      "\n"
     ]
    }
   ],
   "source": [
    "# check average age overall and average age of deduped data (do we want to double-count ppl\n",
    "# if they're stopped multiple times?)\n",
    "print np.average(drivers['driver_age']), \n",
    "np.average(stops['driver_age'])"
   ]
  },
  {
   "cell_type": "code",
   "execution_count": 125,
   "metadata": {
    "collapsed": false
   },
   "outputs": [
    {
     "data": {
      "text/plain": [
       "0.6032710280373832"
      ]
     },
     "execution_count": 125,
     "metadata": {},
     "output_type": "execute_result"
    }
   ],
   "source": [
    "# what proportion are men\n",
    "len(stops[stops.driver_sex == 'm']) / len(stops)"
   ]
  },
  {
   "cell_type": "code",
   "execution_count": 126,
   "metadata": {
    "collapsed": true
   },
   "outputs": [],
   "source": [
    "# linear regression time!\n",
    "from sklearn.linear_model import LinearRegression\n",
    "lr = LinearRegression(fit_intercept=True)"
   ]
  },
  {
   "cell_type": "code",
   "execution_count": 127,
   "metadata": {
    "collapsed": false
   },
   "outputs": [],
   "source": [
    "# create dummy var for male\n",
    "stops['sex_m'] = None\n",
    "stops.ix[stops.driver_sex == 'm', 'sex_m'] = 1\n",
    "stops.ix[stops.driver_sex == 'f', 'sex_m'] = 0"
   ]
  },
  {
   "cell_type": "code",
   "execution_count": 130,
   "metadata": {
    "collapsed": false
   },
   "outputs": [],
   "source": [
    "# create X and y\n",
    "X = stops[['driver_age', 'sex_m']]\n",
    "y = stops.ticket"
   ]
  },
  {
   "cell_type": "code",
   "execution_count": 131,
   "metadata": {
    "collapsed": false
   },
   "outputs": [
    {
     "data": {
      "text/plain": [
       "LinearRegression(copy_X=True, fit_intercept=True, n_jobs=1, normalize=False)"
      ]
     },
     "execution_count": 131,
     "metadata": {},
     "output_type": "execute_result"
    }
   ],
   "source": [
    "lr.fit(X, y)"
   ]
  },
  {
   "cell_type": "code",
   "execution_count": 138,
   "metadata": {
    "collapsed": false
   },
   "outputs": [
    {
     "name": "stdout",
     "output_type": "stream",
     "text": [
      "Coefficients: [ 0.00388807  0.1752491 ]\n",
      "Intercept: 0.0405177544448\n"
     ]
    }
   ],
   "source": [
    "print 'Coefficients: {}\\nIntercept: {}'.format(lr.coef_, lr.intercept_)"
   ]
  },
  {
   "cell_type": "code",
   "execution_count": 147,
   "metadata": {
    "collapsed": false
   },
   "outputs": [
    {
     "name": "stdout",
     "output_type": "stream",
     "text": [
      "[ 0.0349926]\n"
     ]
    }
   ],
   "source": [
    "# all else equal, age + 10\n",
    "prob = (lr.intercept_ + (lr.coef_[:1] * 10))  - (lr.intercept_ + lr.coef_[:1])\n",
    "print prob"
   ]
  },
  {
   "cell_type": "code",
   "execution_count": 151,
   "metadata": {
    "collapsed": false
   },
   "outputs": [
    {
     "name": "stdout",
     "output_type": "stream",
     "text": [
      "[ 0.15715975]\n"
     ]
    }
   ],
   "source": [
    "## 30 yo female\n",
    "prob = (lr.intercept_ + (lr.coef_[:1] * 30) + lr.coef_[1:2] * 0)\n",
    "print prob"
   ]
  },
  {
   "cell_type": "code",
   "execution_count": 153,
   "metadata": {
    "collapsed": false
   },
   "outputs": [
    {
     "name": "stdout",
     "output_type": "stream",
     "text": [
      "[ 0.1752491]\n"
     ]
    }
   ],
   "source": [
    "## 30 yo male vs 30 yo female\n",
    "prob = (lr.intercept_ + (lr.coef_[:1] * 30) + lr.coef_[1:2] * 1) - (lr.intercept_ + (lr.coef_[:1] * 30) + lr.coef_[1:2] * 0)\n",
    "print prob"
   ]
  }
 ],
 "metadata": {
  "kernelspec": {
   "display_name": "Python [Root]",
   "language": "python",
   "name": "Python [Root]"
  },
  "language_info": {
   "codemirror_mode": {
    "name": "ipython",
    "version": 2
   },
   "file_extension": ".py",
   "mimetype": "text/x-python",
   "name": "python",
   "nbconvert_exporter": "python",
   "pygments_lexer": "ipython2",
   "version": "2.7.12"
  }
 },
 "nbformat": 4,
 "nbformat_minor": 0
}
