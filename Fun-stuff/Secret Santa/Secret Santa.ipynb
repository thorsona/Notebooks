{
 "cells": [
  {
   "cell_type": "code",
   "execution_count": 7,
   "metadata": {
    "collapsed": false
   },
   "outputs": [],
   "source": [
    "# initial import\n",
    "import smtplib\n",
    "import pandas as pd\n",
    "import numpy as np\n",
    "import random\n",
    "import smtplib\n",
    "import json\n",
    "from email.mime.text import MIMEText"
   ]
  },
  {
   "cell_type": "code",
   "execution_count": 8,
   "metadata": {
    "collapsed": false
   },
   "outputs": [],
   "source": [
    "def secret_santa(names_file, email_file):\n",
    "    \n",
    "    '''\n",
    "    Takes a json file of names with emails and a file with credentials for the email. \n",
    "    Randomizes participants' names, makes sure nobody ot assigned to themself,\n",
    "    and sends an email to the person with their Secret Santa assignee!\n",
    "    '''\n",
    "\n",
    "    # Step 1: import json file with names and emails\n",
    "    with open(names_file, 'r') as f:\n",
    "        ss = json.load(f)\n",
    "\n",
    "    # Step 2: create dataframe of names to assign for random sample\n",
    "    names = ss.keys()\n",
    "    names = pd.DataFrame(names)\n",
    "\n",
    "    # Step 3: randomize and check to see if it worked\n",
    "    print(\"iteration 1\")\n",
    "    rand_names = names\n",
    "    autoassigned = []\n",
    "    for i,n,r in zip(names.index,names[0],rand_names[0]):\n",
    "        if n == r:\n",
    "            autoassigned.append(n)\n",
    "    print(\"{} self assigned\".format(len(autoassigned)))\n",
    "\n",
    "    # Step 4: if initial randomization didn't work, redo as necessary\n",
    "    if len(autoassigned) > 0:\n",
    "        j=2\n",
    "        while len(autoassigned) > 0:\n",
    "            print(\"iteration {}\".format(j))\n",
    "            j+=1\n",
    "            autoassigned = []\n",
    "            rand_names = names.sample(frac=1)\n",
    "            for i,n,r in zip(names.index,names[0],rand_names[0]):\n",
    "                if n == r:\n",
    "                    autoassigned.append(n)\n",
    "            print(\"{} self assigned\".format(len(autoassigned)))\n",
    "        for n,r in zip(names[0],rand_names[0]):\n",
    "            ss[n]['assigned'] = r\n",
    "    else:\n",
    "        for n,r in zip(names[0],rand_names[0]):\n",
    "            ss[n]['assigned'] = r\n",
    "    \n",
    "    # Step 5: import json file with email sender credentials\n",
    "    with open(email_file, 'r') as f:\n",
    "        email_creds = json.load(f)\n",
    "    \n",
    "    # Step 6: send the emails!\n",
    "    for name in ss.keys():\n",
    "        print(\"recipient {} with email {} has been sent an email\").format(name,ss[name]['email'])\n",
    "        recipient = ss[name]['email'] \n",
    "        msg = \"Hi {0}!\\n\\nYour secret santa is {1}.\\n\\nCheers,\\nAutomated Secret Santa\".format(name, \n",
    "                                                                                        ss[name]['assigned'])\n",
    "        test_msg = \"Hi {}!\\n\\nThis is a test of the Automated Secret Santa. Please reply to annathorson221@gmail.com to confirm reciept.\".format(name)\n",
    "        server = smtplib.SMTP('smtp.gmail.com', 587)\n",
    "        server.starttls()\n",
    "        server.login(email_creds['email address'], email_creds['password'])\n",
    "        server.sendmail(email_creds['email address'], recipient, msg) # change to real msg once test works\n",
    "        server.quit()"
   ]
  },
  {
   "cell_type": "code",
   "execution_count": 9,
   "metadata": {
    "collapsed": false
   },
   "outputs": [
    {
     "name": "stdout",
     "output_type": "stream",
     "text": [
      "iteration 1\n",
      "9 self assigned\n",
      "iteration 2\n",
      "1 self assigned\n",
      "iteration 3\n",
      "0 self assigned\n",
      "recipient Allan with email allan.r.thorson@gmail.com has been sent an email\n",
      "recipient Ed with email ejayaltman@gmail.com has been sent an email\n",
      "recipient Andrew with email a.shepard.thorson@gmail.com has been sent an email\n",
      "recipient Jennifer with email jnicollem@gmail.com has been sent an email\n",
      "recipient Grandmother with email marshmarsht@aol.com has been sent an email\n",
      "recipient Tom with email marshmarsht@aol.com has been sent an email\n",
      "recipient Kelly with email kelly_rae_martin@yahoo.com has been sent an email\n",
      "recipient George with email wardkirchwehm@gmail.com has been sent an email\n",
      "recipient Anna with email annathorson221@gmail.com has been sent an email\n"
     ]
    }
   ],
   "source": [
    "email_creds = \"C:/Users/Anna/Documents/secret_santa_email.json\"\n",
    "family_names = \"C:/Users/Anna/Documents/names_and_emails_family.json\"\n",
    "\n",
    "secret_santa(family_names, email_creds)"
   ]
  },
  {
   "cell_type": "code",
   "execution_count": null,
   "metadata": {
    "collapsed": true
   },
   "outputs": [],
   "source": []
  }
 ],
 "metadata": {
  "kernelspec": {
   "display_name": "Python [Root]",
   "language": "python",
   "name": "Python [Root]"
  },
  "language_info": {
   "codemirror_mode": {
    "name": "ipython",
    "version": 2
   },
   "file_extension": ".py",
   "mimetype": "text/x-python",
   "name": "python",
   "nbconvert_exporter": "python",
   "pygments_lexer": "ipython2",
   "version": "2.7.12"
  }
 },
 "nbformat": 4,
 "nbformat_minor": 2
}
