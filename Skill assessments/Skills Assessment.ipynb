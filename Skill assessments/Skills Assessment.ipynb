{
 "cells": [
  {
   "cell_type": "code",
   "execution_count": 2,
   "metadata": {
    "collapsed": false
   },
   "outputs": [],
   "source": [
    "from __future__ import division\n",
    "import numpy as np\n",
    "import pandas as pd\n",
    "import matplotlib.pyplot as plt\n",
    "import nltk, re, pprint\n",
    "from nltk import word_tokenize\n",
    "import pickle\n",
    "import os\n",
    "os.chdir('C:/Users/Anna/Documents/house_prs_2005-10.pkl/')"
   ]
  },
  {
   "cell_type": "code",
   "execution_count": 4,
   "metadata": {
    "collapsed": false,
    "scrolled": false
   },
   "outputs": [],
   "source": [
    "## load raw data\n",
    "raw_data = pickle.load(open('house_prs_2005-10.pkl', mode='rb'))"
   ]
  },
  {
   "cell_type": "code",
   "execution_count": 8,
   "metadata": {
    "collapsed": false
   },
   "outputs": [
    {
     "data": {
      "text/plain": [
       "342674"
      ]
     },
     "execution_count": 8,
     "metadata": {},
     "output_type": "execute_result"
    }
   ],
   "source": [
    "## see the size of the data\n",
    "len(raw_data)"
   ]
  },
  {
   "cell_type": "code",
   "execution_count": 42,
   "metadata": {
    "collapsed": false
   },
   "outputs": [
    {
     "data": {
      "text/html": [
       "<div>\n",
       "<table border=\"1\" class=\"dataframe\">\n",
       "  <thead>\n",
       "    <tr style=\"text-align: right;\">\n",
       "      <th></th>\n",
       "      <th>day</th>\n",
       "      <th>month</th>\n",
       "      <th>name</th>\n",
       "      <th>press</th>\n",
       "      <th>rep_count</th>\n",
       "      <th>text</th>\n",
       "      <th>year</th>\n",
       "    </tr>\n",
       "  </thead>\n",
       "  <tbody>\n",
       "    <tr>\n",
       "      <th>342669</th>\n",
       "      <td>11</td>\n",
       "      <td>Jan</td>\n",
       "      <td>YoungDon</td>\n",
       "      <td>Fairbanks Daily News-Miner (Alaska)</td>\n",
       "      <td>121</td>\n",
       "      <td>\\r\\n                            January 11, 20...</td>\n",
       "      <td>2005</td>\n",
       "    </tr>\n",
       "    <tr>\n",
       "      <th>342670</th>\n",
       "      <td>5</td>\n",
       "      <td>Jan</td>\n",
       "      <td>YoungDon</td>\n",
       "      <td>The Associated Press State &amp; Local Wire</td>\n",
       "      <td>122</td>\n",
       "      <td>\\r\\n                      January 5, 2005, Wed...</td>\n",
       "      <td>2005</td>\n",
       "    </tr>\n",
       "    <tr>\n",
       "      <th>342671</th>\n",
       "      <td>3</td>\n",
       "      <td>Jan</td>\n",
       "      <td>YoungDon</td>\n",
       "      <td>Fairbanks Daily News-Miner (Alaska)</td>\n",
       "      <td>123</td>\n",
       "      <td>\\r\\n                             January 3, 20...</td>\n",
       "      <td>2005</td>\n",
       "    </tr>\n",
       "    <tr>\n",
       "      <th>342672</th>\n",
       "      <td>3</td>\n",
       "      <td>Jan</td>\n",
       "      <td>YoungDon</td>\n",
       "      <td>Fairbanks Daily News-Miner (Alaska)</td>\n",
       "      <td>124</td>\n",
       "      <td>\\r\\n                             January 3, 20...</td>\n",
       "      <td>2005</td>\n",
       "    </tr>\n",
       "    <tr>\n",
       "      <th>342673</th>\n",
       "      <td>3</td>\n",
       "      <td>Jan</td>\n",
       "      <td>YoungDon</td>\n",
       "      <td>Fairbanks Daily News-Miner (Alaska)</td>\n",
       "      <td>125</td>\n",
       "      <td>\\r\\n                             January 3, 20...</td>\n",
       "      <td>2005</td>\n",
       "    </tr>\n",
       "  </tbody>\n",
       "</table>\n",
       "</div>"
      ],
      "text/plain": [
       "       day month      name                                    press  \\\n",
       "342669  11   Jan  YoungDon      Fairbanks Daily News-Miner (Alaska)   \n",
       "342670   5   Jan  YoungDon  The Associated Press State & Local Wire   \n",
       "342671   3   Jan  YoungDon      Fairbanks Daily News-Miner (Alaska)   \n",
       "342672   3   Jan  YoungDon      Fairbanks Daily News-Miner (Alaska)   \n",
       "342673   3   Jan  YoungDon      Fairbanks Daily News-Miner (Alaska)   \n",
       "\n",
       "        rep_count                                               text  year  \n",
       "342669        121  \\r\\n                            January 11, 20...  2005  \n",
       "342670        122  \\r\\n                      January 5, 2005, Wed...  2005  \n",
       "342671        123  \\r\\n                             January 3, 20...  2005  \n",
       "342672        124  \\r\\n                             January 3, 20...  2005  \n",
       "342673        125  \\r\\n                             January 3, 20...  2005  "
      ]
     },
     "execution_count": 42,
     "metadata": {},
     "output_type": "execute_result"
    }
   ],
   "source": [
    "## look at the data\n",
    "raw_data[-5:]"
   ]
  },
  {
   "cell_type": "code",
   "execution_count": null,
   "metadata": {
    "collapsed": true
   },
   "outputs": [],
   "source": []
  },
  {
   "cell_type": "code",
   "execution_count": 21,
   "metadata": {
    "collapsed": false
   },
   "outputs": [
    {
     "data": {
      "text/plain": [
       "(342674, 462851)"
      ]
     },
     "execution_count": 21,
     "metadata": {},
     "output_type": "execute_result"
    }
   ],
   "source": [
    "## tokenize text using sklearn\n",
    "from sklearn.feature_extraction.text import CountVectorizer\n",
    "count_vect = CountVectorizer(decode_error='ignore')\n",
    "data_counts = count_vect.fit_transform(raw_data.text)\n",
    "data_counts.shape"
   ]
  },
  {
   "cell_type": "code",
   "execution_count": 23,
   "metadata": {
    "collapsed": false
   },
   "outputs": [
    {
     "data": {
      "text/plain": [
       "43133"
      ]
     },
     "execution_count": 23,
     "metadata": {},
     "output_type": "execute_result"
    }
   ],
   "source": [
    "# counts of random words\n",
    "count_vect.vocabulary_.get('america')"
   ]
  },
  {
   "cell_type": "code",
   "execution_count": 25,
   "metadata": {
    "collapsed": false
   },
   "outputs": [
    {
     "data": {
      "text/plain": [
       "(342674, 462851)"
      ]
     },
     "execution_count": 25,
     "metadata": {},
     "output_type": "execute_result"
    }
   ],
   "source": [
    "# transform counts to frequencies\n",
    "from sklearn.feature_extraction.text import TfidfTransformer\n",
    "tfidf_transformer = TfidfTransformer()\n",
    "data_tfidf = tfidf_transformer.fit_transform(data_counts)\n",
    "data_tfidf.shape"
   ]
  },
  {
   "cell_type": "code",
   "execution_count": 45,
   "metadata": {
    "collapsed": false
   },
   "outputs": [],
   "source": [
    "sample = raw_data.sample(1000, random_state=21)"
   ]
  },
  {
   "cell_type": "code",
   "execution_count": 48,
   "metadata": {
    "collapsed": false
   },
   "outputs": [],
   "source": [
    "tokens = {}\n",
    "for i, j in zip(sample.index, sample.text):\n",
    "    tokens[i] = word_tokenize(unicode(j, errors='ignore'))"
   ]
  },
  {
   "cell_type": "code",
   "execution_count": 55,
   "metadata": {
    "collapsed": false,
    "scrolled": false
   },
   "outputs": [
    {
     "data": {
      "text/plain": [
       "[u'The',\n",
       " u'Associated',\n",
       " u'Press',\n",
       " u'State',\n",
       " u'&',\n",
       " u'Local',\n",
       " u'Wire',\n",
       " u'November',\n",
       " u'5',\n",
       " u',',\n",
       " u'2008',\n",
       " u'Wednesday',\n",
       " u'4:08',\n",
       " u'AM',\n",
       " u'GMT',\n",
       " u'Dems',\n",
       " u'gain',\n",
       " u'seat',\n",
       " u';',\n",
       " u'8',\n",
       " u'incumbents',\n",
       " u'win',\n",
       " u'Democrats',\n",
       " u'gained',\n",
       " u'at',\n",
       " u'least',\n",
       " u'one',\n",
       " u'seat',\n",
       " u'in',\n",
       " u'Virginia',\n",
       " u\"'s\",\n",
       " u'U.S.',\n",
       " u'House',\n",
       " u'delegation',\n",
       " u'when',\n",
       " u'Gerald',\n",
       " u'Connolly',\n",
       " u'won',\n",
       " u'the',\n",
       " u'seat',\n",
       " u'of',\n",
       " u'retiring',\n",
       " u'Republican',\n",
       " u'incumbent',\n",
       " u'Tom',\n",
       " u'Davis',\n",
       " u'.',\n",
       " u'Connolly',\n",
       " u'defeated',\n",
       " u'Republican',\n",
       " u'Keith',\n",
       " u'Fimian',\n",
       " u'in',\n",
       " u'northern',\n",
       " u'Virginia',\n",
       " u\"'s\",\n",
       " u'11th',\n",
       " u'District',\n",
       " u'.',\n",
       " u'Two',\n",
       " u'GOP',\n",
       " u'incumbents',\n",
       " u'Thelma',\n",
       " u'Drake',\n",
       " u'and',\n",
       " u'Virgil',\n",
       " u'Goode',\n",
       " u'were',\n",
       " u'locked',\n",
       " u'in',\n",
       " u'tight',\n",
       " u'races',\n",
       " u'late',\n",
       " u'Tuesday',\n",
       " u'.',\n",
       " u'Eight',\n",
       " u'incumbents',\n",
       " u'won',\n",
       " u're-election',\n",
       " u'.',\n",
       " u'Republican',\n",
       " u'Frank',\n",
       " u'Wolf',\n",
       " u'defeated',\n",
       " u'Democrat',\n",
       " u'Judy',\n",
       " u'Feder',\n",
       " u'in',\n",
       " u'the',\n",
       " u'10th',\n",
       " u'District',\n",
       " u'.',\n",
       " u'Republicans',\n",
       " u'Randy',\n",
       " u'Forbes',\n",
       " u',',\n",
       " u'Eric',\n",
       " u'Cantor',\n",
       " u',',\n",
       " u'Rob',\n",
       " u'Wittman',\n",
       " u'and',\n",
       " u'Bob',\n",
       " u'Goodlatte',\n",
       " u'also',\n",
       " u'turned',\n",
       " u'back',\n",
       " u'Democratic',\n",
       " u'challenges',\n",
       " u'.',\n",
       " u'Forbes',\n",
       " u'beat',\n",
       " u'Andrea',\n",
       " u'Miller',\n",
       " u'in',\n",
       " u'the',\n",
       " u'4th',\n",
       " u'District',\n",
       " u',',\n",
       " u'Cantor',\n",
       " u'defeated',\n",
       " u'Anita',\n",
       " u'Hartke',\n",
       " u'in',\n",
       " u'the',\n",
       " u'7th',\n",
       " u',',\n",
       " u'Wittman',\n",
       " u'beat',\n",
       " u'Bill',\n",
       " u'Day',\n",
       " u'in',\n",
       " u'the',\n",
       " u'1st',\n",
       " u',',\n",
       " u'and',\n",
       " u'Goodlatte',\n",
       " u'beat',\n",
       " u'Sam',\n",
       " u'Rasoul',\n",
       " u'in',\n",
       " u'the',\n",
       " u'6th',\n",
       " u'.',\n",
       " u'Democratic',\n",
       " u'incumbent',\n",
       " u'Jim',\n",
       " u'Moran',\n",
       " u'defeated',\n",
       " u'Republican',\n",
       " u'Mark',\n",
       " u'Ellmore',\n",
       " u'in',\n",
       " u'the',\n",
       " u'8th',\n",
       " u'.',\n",
       " u'Democratic',\n",
       " u'incuments',\n",
       " u'Bobby',\n",
       " u'Scott',\n",
       " u'in',\n",
       " u'the',\n",
       " u'3rd',\n",
       " u'District',\n",
       " u'and',\n",
       " u'Rick',\n",
       " u'Boucher',\n",
       " u'in',\n",
       " u'the',\n",
       " u'9th',\n",
       " u'were',\n",
       " u'unopposed',\n",
       " u'.']"
      ]
     },
     "execution_count": 55,
     "metadata": {},
     "output_type": "execute_result"
    }
   ],
   "source": [
    "for i in sample.index:\n",
    "    tokens[sample.index[1]]"
   ]
  }
 ],
 "metadata": {
  "anaconda-cloud": {},
  "kernelspec": {
   "display_name": "Python [Root]",
   "language": "python",
   "name": "Python [Root]"
  },
  "language_info": {
   "codemirror_mode": {
    "name": "ipython",
    "version": 2
   },
   "file_extension": ".py",
   "mimetype": "text/x-python",
   "name": "python",
   "nbconvert_exporter": "python",
   "pygments_lexer": "ipython2",
   "version": "2.7.12"
  }
 },
 "nbformat": 4,
 "nbformat_minor": 0
}
